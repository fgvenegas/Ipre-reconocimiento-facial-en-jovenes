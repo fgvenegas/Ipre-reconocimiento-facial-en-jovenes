{
 "cells": [
  {
   "cell_type": "code",
   "execution_count": 2,
   "metadata": {},
   "outputs": [],
   "source": [
    "import pandas as pd\n",
    "from shutil import copyfile\n",
    "import matplotlib.pyplot as plt\n",
    "from tqdm import tqdm\n",
    "import cv2\n",
    "import os"
   ]
  },
  {
   "cell_type": "code",
   "execution_count": 3,
   "metadata": {},
   "outputs": [],
   "source": [
    "imgs = os.listdir('../data/test_nuevo/alignedDataset/aligned_i14s1819/')"
   ]
  },
  {
   "cell_type": "code",
   "execution_count": 5,
   "metadata": {},
   "outputs": [],
   "source": [
    "imgs = sorted(imgs)\n",
    "test = imgs[:1238] \n",
    "train = imgs[1238:]"
   ]
  },
  {
   "cell_type": "code",
   "execution_count": 6,
   "metadata": {},
   "outputs": [
    {
     "data": {
      "text/plain": [
       "(4002, 1238)"
      ]
     },
     "execution_count": 6,
     "metadata": {},
     "output_type": "execute_result"
    }
   ],
   "source": [
    "len(train), len(test)"
   ]
  },
  {
   "cell_type": "code",
   "execution_count": 13,
   "metadata": {},
   "outputs": [],
   "source": [
    "A, B = [], []\n",
    "\n",
    "i = 0\n",
    "while i < len(test):  # Cambiar por train \n",
    "    img = test[i]     # o test\n",
    "    name = img.split('.')[0][-1]\n",
    "    if name == 'A':\n",
    "        A.append(img)\n",
    "    if name == 'B':\n",
    "        B.append(img)\n",
    "    i += 1\n"
   ]
  },
  {
   "cell_type": "code",
   "execution_count": 14,
   "metadata": {},
   "outputs": [
    {
     "data": {
      "text/plain": [
       "(619, 619)"
      ]
     },
     "execution_count": 14,
     "metadata": {},
     "output_type": "execute_result"
    }
   ],
   "source": [
    "len(A), len(B)"
   ]
  },
  {
   "cell_type": "markdown",
   "metadata": {},
   "source": [
    "## Train"
   ]
  },
  {
   "cell_type": "code",
   "execution_count": 12,
   "metadata": {},
   "outputs": [
    {
     "name": "stderr",
     "output_type": "stream",
     "text": [
      "100%|██████████| 2001/2001 [00:02<00:00, 841.35it/s]\n",
      "100%|██████████| 2001/2001 [00:07<00:00, 258.27it/s]\n"
     ]
    }
   ],
   "source": [
    "for img_a in tqdm(A):\n",
    "    copyfile('../data/test_nuevo/alignedDataset/aligned_i14s1819/' + img_a, '../data/test_nuevo/alignedDataset/14s1819off/trainA/' + img_a)\n",
    "    \n",
    "for img_b in tqdm(B):\n",
    "    img_test = cv2.imread('../data/test_nuevo/alignedDataset/aligned_i14s1819/' + img_b)\n",
    "    img_test = cv2.cvtColor(img_test, cv2.COLOR_BGR2GRAY)\n",
    "    cv2.imwrite('../data/test_nuevo/alignedDataset/14s1819off/trainB/' + img_b, img_test)\n",
    "    #copyfile('../data/aligned_i12s1819denoising/' + img_b, '../data/12s1819splitDenoising/trainB/' + img_b)    "
   ]
  },
  {
   "cell_type": "markdown",
   "metadata": {},
   "source": [
    "## Test"
   ]
  },
  {
   "cell_type": "code",
   "execution_count": 15,
   "metadata": {},
   "outputs": [],
   "source": [
    "for img_a in A:\n",
    "    copyfile('../data/test_nuevo/alignedDataset/aligned_i14s1819/' + img_a, '../data/test_nuevo/alignedDataset/14s1819off/testA/' + img_a)\n",
    "    \n",
    "for img_b in B:\n",
    "    copyfile('../data/test_nuevo/alignedDataset/aligned_i14s1819/' + img_b, '../data/test_nuevo/alignedDataset/14s1819off/testB/' + img_b)    \n"
   ]
  }
 ],
 "metadata": {
  "kernelspec": {
   "display_name": "Python 3",
   "language": "python",
   "name": "python3"
  },
  "language_info": {
   "codemirror_mode": {
    "name": "ipython",
    "version": 3
   },
   "file_extension": ".py",
   "mimetype": "text/x-python",
   "name": "python",
   "nbconvert_exporter": "python",
   "pygments_lexer": "ipython3",
   "version": "3.7.3"
  }
 },
 "nbformat": 4,
 "nbformat_minor": 2
}
