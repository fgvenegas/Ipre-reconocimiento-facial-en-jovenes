{
 "cells": [
  {
   "cell_type": "code",
   "execution_count": 39,
   "metadata": {},
   "outputs": [],
   "source": [
    "import os\n",
    "import random\n",
    "from shutil import copyfile"
   ]
  },
  {
   "cell_type": "code",
   "execution_count": 40,
   "metadata": {},
   "outputs": [],
   "source": [
    "full_path = '../data/test_nuevo/alignedDataset/14s1819off/'"
   ]
  },
  {
   "cell_type": "code",
   "execution_count": 41,
   "metadata": {},
   "outputs": [],
   "source": [
    "first_name = os.listdir(full_path + 'genImages')"
   ]
  },
  {
   "cell_type": "code",
   "execution_count": 42,
   "metadata": {},
   "outputs": [
    {
     "data": {
      "text/plain": [
       "'038887B.jpg'"
      ]
     },
     "execution_count": 42,
     "metadata": {},
     "output_type": "execute_result"
    }
   ],
   "source": [
    "first_name[0].split('_')[1]"
   ]
  },
  {
   "cell_type": "code",
   "execution_count": 43,
   "metadata": {},
   "outputs": [],
   "source": [
    "for f in first_name:\n",
    "    copyfile(full_path + 'genImages' + '/' + f,\n",
    "             full_path + 'testAgen' + '/' + f.split('_')[1])"
   ]
  },
  {
   "cell_type": "code",
   "execution_count": 44,
   "metadata": {},
   "outputs": [],
   "source": [
    "input_path_A = 'testA'\n",
    "input_path_B = 'testB'\n",
    "input_path_C = 'testAgen'\n",
    "output_path = 'testAdis'\n",
    "output_path2 = 'testBdis'"
   ]
  },
  {
   "cell_type": "code",
   "execution_count": 45,
   "metadata": {},
   "outputs": [],
   "source": [
    "input_dir_A = os.listdir(full_path +  input_path_A)\n",
    "input_dir_B = os.listdir(full_path +  input_path_B)"
   ]
  },
  {
   "cell_type": "code",
   "execution_count": 47,
   "metadata": {},
   "outputs": [],
   "source": [
    "i = 0\n",
    "while i < len(input_dir_A):\n",
    "    chosen_one = random.choice(input_dir_B)\n",
    "    if chosen_one != input_dir_A[i]:\n",
    "        copyfile(full_path + input_path_B + '/' + chosen_one,\n",
    "                 full_path + output_path + '/' + input_dir_A[i].split('.')[0][:-1] + 'B.jpg')\n",
    "        copyfile(full_path + input_path_C + '/' + chosen_one,\n",
    "                 full_path + output_path2 + '/' + input_dir_A[i].split('.')[0][:-1] + 'B.jpg')\n",
    "        i += 1"
   ]
  },
  {
   "cell_type": "markdown",
   "metadata": {},
   "source": [
    "# True Positive"
   ]
  },
  {
   "cell_type": "code",
   "execution_count": 48,
   "metadata": {},
   "outputs": [],
   "source": [
    "_A = 'testA'\n",
    "_B = 'testB'\n",
    "output = 'posTrue'"
   ]
  },
  {
   "cell_type": "code",
   "execution_count": 49,
   "metadata": {},
   "outputs": [],
   "source": [
    "input_dir_A = os.listdir(full_path +  _A)\n",
    "input_dir_B = os.listdir(full_path +  _B)"
   ]
  },
  {
   "cell_type": "code",
   "execution_count": 50,
   "metadata": {},
   "outputs": [],
   "source": [
    "for i in range(len(input_dir_A)):\n",
    "    copyfile(full_path + _A + '/' + input_dir_A[i],\n",
    "             full_path + output + '/' + input_dir_A[i])\n",
    "\n",
    "for i in range(len(input_dir_B)):\n",
    "    copyfile(full_path + _B + '/' + input_dir_B[i],\n",
    "             full_path + output + '/' + input_dir_B[i])"
   ]
  },
  {
   "cell_type": "markdown",
   "metadata": {},
   "source": [
    "# Gen positive"
   ]
  },
  {
   "cell_type": "code",
   "execution_count": 51,
   "metadata": {},
   "outputs": [],
   "source": [
    "_A = 'testA'\n",
    "_B = 'testAgen'\n",
    "output = 'posGen'"
   ]
  },
  {
   "cell_type": "code",
   "execution_count": 52,
   "metadata": {},
   "outputs": [],
   "source": [
    "input_dir_A = os.listdir(full_path +  _A)\n",
    "input_dir_B = os.listdir(full_path +  _B)"
   ]
  },
  {
   "cell_type": "code",
   "execution_count": 53,
   "metadata": {},
   "outputs": [],
   "source": [
    "for i in range(len(input_dir_A)):\n",
    "    copyfile(full_path + _A + '/' + input_dir_A[i],\n",
    "             full_path + output + '/' + input_dir_A[i])\n",
    "\n",
    "for i in range(len(input_dir_B)):\n",
    "    copyfile(full_path + _B + '/' + input_dir_B[i],\n",
    "             full_path + output + '/' + input_dir_B[i])"
   ]
  },
  {
   "cell_type": "markdown",
   "metadata": {},
   "source": [
    "# True Negative"
   ]
  },
  {
   "cell_type": "code",
   "execution_count": 54,
   "metadata": {},
   "outputs": [],
   "source": [
    "_A = 'testA'\n",
    "_B = 'testAdis'\n",
    "output = 'negTrue'"
   ]
  },
  {
   "cell_type": "code",
   "execution_count": 55,
   "metadata": {},
   "outputs": [],
   "source": [
    "input_dir_A = os.listdir(full_path +  _A)\n",
    "input_dir_B = os.listdir(full_path +  _B)"
   ]
  },
  {
   "cell_type": "code",
   "execution_count": 56,
   "metadata": {},
   "outputs": [],
   "source": [
    "for i in range(len(input_dir_A)):\n",
    "    copyfile(full_path + _A + '/' + input_dir_A[i],\n",
    "             full_path + output + '/' + input_dir_A[i])\n",
    "\n",
    "for i in range(len(input_dir_B)):\n",
    "    copyfile(full_path + _B + '/' + input_dir_B[i],\n",
    "             full_path + output + '/' + input_dir_B[i])"
   ]
  },
  {
   "cell_type": "markdown",
   "metadata": {},
   "source": [
    "# Gen Negative"
   ]
  },
  {
   "cell_type": "code",
   "execution_count": 57,
   "metadata": {},
   "outputs": [],
   "source": [
    "_A = 'testA'\n",
    "_B = 'testBdis'\n",
    "output = 'negGen'"
   ]
  },
  {
   "cell_type": "code",
   "execution_count": 58,
   "metadata": {},
   "outputs": [],
   "source": [
    "input_dir_A = os.listdir(full_path +  _A)\n",
    "input_dir_B = os.listdir(full_path +  _B)"
   ]
  },
  {
   "cell_type": "code",
   "execution_count": 59,
   "metadata": {},
   "outputs": [],
   "source": [
    "for i in range(len(input_dir_A)):\n",
    "    copyfile(full_path + _A + '/' + input_dir_A[i],\n",
    "             full_path + output + '/' + input_dir_A[i])\n",
    "\n",
    "for i in range(len(input_dir_B)):\n",
    "    copyfile(full_path + _B + '/' + input_dir_B[i],\n",
    "             full_path + output + '/' + input_dir_B[i])"
   ]
  },
  {
   "cell_type": "code",
   "execution_count": null,
   "metadata": {},
   "outputs": [],
   "source": []
  }
 ],
 "metadata": {
  "kernelspec": {
   "display_name": "Python 3",
   "language": "python",
   "name": "python3"
  },
  "language_info": {
   "codemirror_mode": {
    "name": "ipython",
    "version": 3
   },
   "file_extension": ".py",
   "mimetype": "text/x-python",
   "name": "python",
   "nbconvert_exporter": "python",
   "pygments_lexer": "ipython3",
   "version": "3.7.3"
  }
 },
 "nbformat": 4,
 "nbformat_minor": 2
}
